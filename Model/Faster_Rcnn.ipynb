{
  "nbformat": 4,
  "nbformat_minor": 0,
  "metadata": {
    "colab": {
      "name": "Faster Rcnn.ipynb",
      "provenance": [],
      "collapsed_sections": []
    },
    "kernelspec": {
      "name": "python3",
      "display_name": "Python 3"
    },
    "accelerator": "GPU"
  },
  "cells": [
    {
      "cell_type": "code",
      "metadata": {
        "id": "2u47sRN6pZSe",
        "colab_type": "code",
        "colab": {
          "base_uri": "https://localhost:8080/",
          "height": 121
        },
        "outputId": "c9b9eb81-3f8d-4ff9-d601-e4bedc49eb35"
      },
      "source": [
        "!git clone https://github.com/UCSD-AI4H/COVID-CT.git"
      ],
      "execution_count": null,
      "outputs": [
        {
          "output_type": "stream",
          "text": [
            "Cloning into 'COVID-CT'...\n",
            "remote: Enumerating objects: 5459, done.\u001b[K\n",
            "remote: Total 5459 (delta 0), reused 0 (delta 0), pack-reused 5459\u001b[K\n",
            "Receiving objects: 100% (5459/5459), 1.09 GiB | 39.56 MiB/s, done.\n",
            "Resolving deltas: 100% (360/360), done.\n",
            "Checking out files: 100% (1048/1048), done.\n"
          ],
          "name": "stdout"
        }
      ]
    },
    {
      "cell_type": "code",
      "metadata": {
        "id": "LXN4qlCqpcKE",
        "colab_type": "code",
        "colab": {
          "base_uri": "https://localhost:8080/",
          "height": 34
        },
        "outputId": "95b1aac2-7243-4140-811d-0e24bf30cb0b"
      },
      "source": [
        "cd COVID-CT"
      ],
      "execution_count": null,
      "outputs": [
        {
          "output_type": "stream",
          "text": [
            "/content/COVID-CT\n"
          ],
          "name": "stdout"
        }
      ]
    },
    {
      "cell_type": "code",
      "metadata": {
        "id": "ZHaOuEBmpeWL",
        "colab_type": "code",
        "colab": {
          "base_uri": "https://localhost:8080/",
          "height": 52
        },
        "outputId": "2990c145-4792-49e5-c44e-8548cb5334e6"
      },
      "source": [
        "ls\n"
      ],
      "execution_count": null,
      "outputs": [
        {
          "output_type": "stream",
          "text": [
            "\u001b[0m\u001b[01;34m'baseline methods'\u001b[0m/       \u001b[01;34mData-split\u001b[0m/         NonCOVID-CT-MetaInfo.csv\n",
            " COVID-CT-MetaInfo.xlsx   \u001b[01;34mImages-processed\u001b[0m/   README.md\n"
          ],
          "name": "stdout"
        }
      ]
    },
    {
      "cell_type": "code",
      "metadata": {
        "id": "oJD9QDA7pgSK",
        "colab_type": "code",
        "colab": {}
      },
      "source": [
        "!unzip Images-processed/CT_COVID.zip >/dev/null; 2>&1\n",
        "!unzip Images-processed/CT_NonCOVID.zip  > /dev/null; 2>&1"
      ],
      "execution_count": null,
      "outputs": []
    },
    {
      "cell_type": "code",
      "metadata": {
        "id": "ZsNjWRn7piNe",
        "colab_type": "code",
        "colab": {
          "base_uri": "https://localhost:8080/",
          "height": 69
        },
        "outputId": "b2df6e2b-9a42-4a25-c862-b964712618e8"
      },
      "source": [
        "ls\n"
      ],
      "execution_count": null,
      "outputs": [
        {
          "output_type": "stream",
          "text": [
            "\u001b[0m\u001b[01;34m'baseline methods'\u001b[0m/       \u001b[01;34mCT_NonCOVID\u001b[0m/        \u001b[01;34m__MACOSX\u001b[0m/\n",
            " COVID-CT-MetaInfo.xlsx   \u001b[01;34mData-split\u001b[0m/         NonCOVID-CT-MetaInfo.csv\n",
            " \u001b[01;34mCT_COVID\u001b[0m/                \u001b[01;34mImages-processed\u001b[0m/   README.md\n"
          ],
          "name": "stdout"
        }
      ]
    },
    {
      "cell_type": "code",
      "metadata": {
        "id": "kB88CAARCITW",
        "colab_type": "code",
        "colab": {
          "base_uri": "https://localhost:8080/",
          "height": 34
        },
        "outputId": "397acb18-34fc-4571-bd64-76ee339cc163"
      },
      "source": [
        "import keras\n",
        "from keras.layers.core import Layer\n",
        "import keras.backend as K\n",
        "import tensorflow as tf"
      ],
      "execution_count": null,
      "outputs": [
        {
          "output_type": "stream",
          "text": [
            "Using TensorFlow backend.\n"
          ],
          "name": "stderr"
        }
      ]
    },
    {
      "cell_type": "code",
      "metadata": {
        "id": "HfT_O3o6CGTd",
        "colab_type": "code",
        "colab": {}
      },
      "source": [
        "from keras.models import Model\n",
        "from keras.layers import Conv2D, MaxPool2D,  \\\n",
        "    Dropout, Dense, Input, concatenate,      \\\n",
        "    GlobalAveragePooling2D, AveragePooling2D,\\\n",
        "    Flatten\n",
        "  \n",
        "from keras.utils import np_utils\n",
        "\n",
        "import math \n",
        "from keras.optimizers import SGD \n",
        "from keras.callbacks import LearningRateScheduler"
      ],
      "execution_count": null,
      "outputs": []
    },
    {
      "cell_type": "code",
      "metadata": {
        "id": "5RMHvde-WPTa",
        "colab_type": "code",
        "colab": {}
      },
      "source": [
        "import cv2\n",
        "def equalize_light(image, limit=3, grid=(7,7), gray=False):\n",
        "    if (len(image.shape) == 3):\n",
        "      clahe = cv2.createCLAHE(clipLimit=limit, tileGridSize=grid)\n",
        "      lab = cv2.cvtColor(image, cv2.COLOR_RGB2LAB)\n",
        "      l, a, b = cv2.split(lab)\n",
        "  \n",
        "      cl = clahe.apply(l)\n",
        "      limg = cv2.merge((cl,a,b))\n",
        "  \n",
        "      image = cv2.cvtColor(limg, cv2.COLOR_LAB2RGB)\n",
        "      return np.uint8(image)"
      ],
      "execution_count": null,
      "outputs": []
    },
    {
      "cell_type": "code",
      "metadata": {
        "id": "nJvpYDuqTn2Q",
        "colab_type": "code",
        "colab": {}
      },
      "source": [
        "from PIL import Image\n",
        "import os\n",
        "import numpy as np\n",
        "def load_data(folder_path):\n",
        "  files = os.listdir(folder_path)\n",
        "  data = []\n",
        "  count = 0\n",
        "  for File in files:\n",
        "    count += 1\n",
        "    img = Image.open(folder_path+'/'+File)\n",
        "    img = np.asarray(img,dtype=np.uint8)\n",
        "    if len(img.shape) > 2:\n",
        "        # print(img.shape)\n",
        "        img = Image.fromarray(img)\n",
        "        img = img.convert('RGB')\n",
        "        img = np.asarray(img)\n",
        "        img=cv2.resize(img,(300,300))\n",
        "        img = equalize_light(img)\n",
        "        data.append(img)\n",
        "  return data"
      ],
      "execution_count": null,
      "outputs": []
    },
    {
      "cell_type": "code",
      "metadata": {
        "id": "T6x0e_l7T3R5",
        "colab_type": "code",
        "colab": {}
      },
      "source": [
        "covid,non_covid = load_data('CT_COVID'),load_data('CT_NonCOVID')"
      ],
      "execution_count": null,
      "outputs": []
    },
    {
      "cell_type": "code",
      "metadata": {
        "id": "YrDH-NgQXJ8J",
        "colab_type": "code",
        "colab": {
          "base_uri": "https://localhost:8080/",
          "height": 34
        },
        "outputId": "87bb826f-47df-4bec-a803-58b889657be1"
      },
      "source": [
        "print(len(covid),len(non_covid))"
      ],
      "execution_count": null,
      "outputs": [
        {
          "output_type": "stream",
          "text": [
            "328 374\n"
          ],
          "name": "stdout"
        }
      ]
    },
    {
      "cell_type": "code",
      "metadata": {
        "id": "6CLRVVu2YvwZ",
        "colab_type": "code",
        "colab": {
          "base_uri": "https://localhost:8080/",
          "height": 89
        },
        "outputId": "18459613-f7a2-4833-ea5a-9e423ff05b69"
      },
      "source": [
        "sizes  = []\n",
        "count = 0\n",
        "x_data = []\n",
        "y_data = []\n",
        "left_sum = 0\n",
        "right_sum = 0\n",
        "for i in covid:\n",
        "  x_data.append(i)\n",
        "  y_data.append(1)\n",
        "  sizes.append(i.shape)\n",
        "  left_sum += i.shape[0]\n",
        "  right_sum += i.shape[1]\n",
        "  if i.shape[0] >= 299 and i.shape[1] >= 299 :\n",
        "    count += 1 \n",
        "for i in non_covid:\n",
        "  x_data.append(i)\n",
        "  y_data.append(0)\n",
        "  left_sum += i.shape[0]\n",
        "  right_sum += i.shape[1]\n",
        "  sizes.append(i.shape)\n",
        "  if i.shape[0] >= 299 and i.shape[1] >= 299 :\n",
        "    count += 1\n",
        "print(sizes)\n",
        "print(len(sizes))\n",
        "print(len(x_data),len(y_data))\n",
        "#print(left_sum/702,right_sum/702)"
      ],
      "execution_count": null,
      "outputs": [
        {
          "output_type": "stream",
          "text": [
            "[(300, 300, 3), (300, 300, 3), (300, 300, 3), (300, 300, 3), (300, 300, 3), (300, 300, 3), (300, 300, 3), (300, 300, 3), (300, 300, 3), (300, 300, 3), (300, 300, 3), (300, 300, 3), (300, 300, 3), (300, 300, 3), (300, 300, 3), (300, 300, 3), (300, 300, 3), (300, 300, 3), (300, 300, 3), (300, 300, 3), (300, 300, 3), (300, 300, 3), (300, 300, 3), (300, 300, 3), (300, 300, 3), (300, 300, 3), (300, 300, 3), (300, 300, 3), (300, 300, 3), (300, 300, 3), (300, 300, 3), (300, 300, 3), (300, 300, 3), (300, 300, 3), (300, 300, 3), (300, 300, 3), (300, 300, 3), (300, 300, 3), (300, 300, 3), (300, 300, 3), (300, 300, 3), (300, 300, 3), (300, 300, 3), (300, 300, 3), (300, 300, 3), (300, 300, 3), (300, 300, 3), (300, 300, 3), (300, 300, 3), (300, 300, 3), (300, 300, 3), (300, 300, 3), (300, 300, 3), (300, 300, 3), (300, 300, 3), (300, 300, 3), (300, 300, 3), (300, 300, 3), (300, 300, 3), (300, 300, 3), (300, 300, 3), (300, 300, 3), (300, 300, 3), (300, 300, 3), (300, 300, 3), (300, 300, 3), (300, 300, 3), (300, 300, 3), (300, 300, 3), (300, 300, 3), (300, 300, 3), (300, 300, 3), (300, 300, 3), (300, 300, 3), (300, 300, 3), (300, 300, 3), (300, 300, 3), (300, 300, 3), (300, 300, 3), (300, 300, 3), (300, 300, 3), (300, 300, 3), (300, 300, 3), (300, 300, 3), (300, 300, 3), (300, 300, 3), (300, 300, 3), (300, 300, 3), (300, 300, 3), (300, 300, 3), (300, 300, 3), (300, 300, 3), (300, 300, 3), (300, 300, 3), (300, 300, 3), (300, 300, 3), (300, 300, 3), (300, 300, 3), (300, 300, 3), (300, 300, 3), (300, 300, 3), (300, 300, 3), (300, 300, 3), (300, 300, 3), (300, 300, 3), (300, 300, 3), (300, 300, 3), (300, 300, 3), (300, 300, 3), (300, 300, 3), (300, 300, 3), (300, 300, 3), (300, 300, 3), (300, 300, 3), (300, 300, 3), (300, 300, 3), (300, 300, 3), (300, 300, 3), (300, 300, 3), (300, 300, 3), (300, 300, 3), (300, 300, 3), (300, 300, 3), (300, 300, 3), (300, 300, 3), (300, 300, 3), (300, 300, 3), (300, 300, 3), (300, 300, 3), (300, 300, 3), (300, 300, 3), (300, 300, 3), (300, 300, 3), (300, 300, 3), (300, 300, 3), (300, 300, 3), (300, 300, 3), (300, 300, 3), (300, 300, 3), (300, 300, 3), (300, 300, 3), (300, 300, 3), (300, 300, 3), (300, 300, 3), (300, 300, 3), (300, 300, 3), (300, 300, 3), (300, 300, 3), (300, 300, 3), (300, 300, 3), (300, 300, 3), (300, 300, 3), (300, 300, 3), (300, 300, 3), (300, 300, 3), (300, 300, 3), (300, 300, 3), (300, 300, 3), (300, 300, 3), (300, 300, 3), (300, 300, 3), (300, 300, 3), (300, 300, 3), (300, 300, 3), (300, 300, 3), (300, 300, 3), (300, 300, 3), (300, 300, 3), (300, 300, 3), (300, 300, 3), (300, 300, 3), (300, 300, 3), (300, 300, 3), (300, 300, 3), (300, 300, 3), (300, 300, 3), (300, 300, 3), (300, 300, 3), (300, 300, 3), (300, 300, 3), (300, 300, 3), (300, 300, 3), (300, 300, 3), (300, 300, 3), (300, 300, 3), (300, 300, 3), (300, 300, 3), (300, 300, 3), (300, 300, 3), (300, 300, 3), (300, 300, 3), (300, 300, 3), (300, 300, 3), (300, 300, 3), (300, 300, 3), (300, 300, 3), (300, 300, 3), (300, 300, 3), (300, 300, 3), (300, 300, 3), (300, 300, 3), (300, 300, 3), (300, 300, 3), (300, 300, 3), (300, 300, 3), (300, 300, 3), (300, 300, 3), (300, 300, 3), (300, 300, 3), (300, 300, 3), (300, 300, 3), (300, 300, 3), (300, 300, 3), (300, 300, 3), (300, 300, 3), (300, 300, 3), (300, 300, 3), (300, 300, 3), (300, 300, 3), (300, 300, 3), (300, 300, 3), (300, 300, 3), (300, 300, 3), (300, 300, 3), (300, 300, 3), (300, 300, 3), (300, 300, 3), (300, 300, 3), (300, 300, 3), (300, 300, 3), (300, 300, 3), (300, 300, 3), (300, 300, 3), (300, 300, 3), (300, 300, 3), (300, 300, 3), (300, 300, 3), (300, 300, 3), (300, 300, 3), (300, 300, 3), (300, 300, 3), (300, 300, 3), (300, 300, 3), (300, 300, 3), (300, 300, 3), (300, 300, 3), (300, 300, 3), (300, 300, 3), (300, 300, 3), (300, 300, 3), (300, 300, 3), (300, 300, 3), (300, 300, 3), (300, 300, 3), (300, 300, 3), (300, 300, 3), (300, 300, 3), (300, 300, 3), (300, 300, 3), (300, 300, 3), (300, 300, 3), (300, 300, 3), (300, 300, 3), (300, 300, 3), (300, 300, 3), (300, 300, 3), (300, 300, 3), (300, 300, 3), (300, 300, 3), (300, 300, 3), (300, 300, 3), (300, 300, 3), (300, 300, 3), (300, 300, 3), (300, 300, 3), (300, 300, 3), (300, 300, 3), (300, 300, 3), (300, 300, 3), (300, 300, 3), (300, 300, 3), (300, 300, 3), (300, 300, 3), (300, 300, 3), (300, 300, 3), (300, 300, 3), (300, 300, 3), (300, 300, 3), (300, 300, 3), (300, 300, 3), (300, 300, 3), (300, 300, 3), (300, 300, 3), (300, 300, 3), (300, 300, 3), (300, 300, 3), (300, 300, 3), (300, 300, 3), (300, 300, 3), (300, 300, 3), (300, 300, 3), (300, 300, 3), (300, 300, 3), (300, 300, 3), (300, 300, 3), (300, 300, 3), (300, 300, 3), (300, 300, 3), (300, 300, 3), (300, 300, 3), (300, 300, 3), (300, 300, 3), (300, 300, 3), (300, 300, 3), (300, 300, 3), (300, 300, 3), (300, 300, 3), (300, 300, 3), (300, 300, 3), (300, 300, 3), (300, 300, 3), (300, 300, 3), (300, 300, 3), (300, 300, 3), (300, 300, 3), (300, 300, 3), (300, 300, 3), (300, 300, 3), (300, 300, 3), (300, 300, 3), (300, 300, 3), (300, 300, 3), (300, 300, 3), (300, 300, 3), (300, 300, 3), (300, 300, 3), (300, 300, 3), (300, 300, 3), (300, 300, 3), (300, 300, 3), (300, 300, 3), (300, 300, 3), (300, 300, 3), (300, 300, 3), (300, 300, 3), (300, 300, 3), (300, 300, 3), (300, 300, 3), (300, 300, 3), (300, 300, 3), (300, 300, 3), (300, 300, 3), (300, 300, 3), (300, 300, 3), (300, 300, 3), (300, 300, 3), (300, 300, 3), (300, 300, 3), (300, 300, 3), (300, 300, 3), (300, 300, 3), (300, 300, 3), (300, 300, 3), (300, 300, 3), (300, 300, 3), (300, 300, 3), (300, 300, 3), (300, 300, 3), (300, 300, 3), (300, 300, 3), (300, 300, 3), (300, 300, 3), (300, 300, 3), (300, 300, 3), (300, 300, 3), (300, 300, 3), (300, 300, 3), (300, 300, 3), (300, 300, 3), (300, 300, 3), (300, 300, 3), (300, 300, 3), (300, 300, 3), (300, 300, 3), (300, 300, 3), (300, 300, 3), (300, 300, 3), (300, 300, 3), (300, 300, 3), (300, 300, 3), (300, 300, 3), (300, 300, 3), (300, 300, 3), (300, 300, 3), (300, 300, 3), (300, 300, 3), (300, 300, 3), (300, 300, 3), (300, 300, 3), (300, 300, 3), (300, 300, 3), (300, 300, 3), (300, 300, 3), (300, 300, 3), (300, 300, 3), (300, 300, 3), (300, 300, 3), (300, 300, 3), (300, 300, 3), (300, 300, 3), (300, 300, 3), (300, 300, 3), (300, 300, 3), (300, 300, 3), (300, 300, 3), (300, 300, 3), (300, 300, 3), (300, 300, 3), (300, 300, 3), (300, 300, 3), (300, 300, 3), (300, 300, 3), (300, 300, 3), (300, 300, 3), (300, 300, 3), (300, 300, 3), (300, 300, 3), (300, 300, 3), (300, 300, 3), (300, 300, 3), (300, 300, 3), (300, 300, 3), (300, 300, 3), (300, 300, 3), (300, 300, 3), (300, 300, 3), (300, 300, 3), (300, 300, 3), (300, 300, 3), (300, 300, 3), (300, 300, 3), (300, 300, 3), (300, 300, 3), (300, 300, 3), (300, 300, 3), (300, 300, 3), (300, 300, 3), (300, 300, 3), (300, 300, 3), (300, 300, 3), (300, 300, 3), (300, 300, 3), (300, 300, 3), (300, 300, 3), (300, 300, 3), (300, 300, 3), (300, 300, 3), (300, 300, 3), (300, 300, 3), (300, 300, 3), (300, 300, 3), (300, 300, 3), (300, 300, 3), (300, 300, 3), (300, 300, 3), (300, 300, 3), (300, 300, 3), (300, 300, 3), (300, 300, 3), (300, 300, 3), (300, 300, 3), (300, 300, 3), (300, 300, 3), (300, 300, 3), (300, 300, 3), (300, 300, 3), (300, 300, 3), (300, 300, 3), (300, 300, 3), (300, 300, 3), (300, 300, 3), (300, 300, 3), (300, 300, 3), (300, 300, 3), (300, 300, 3), (300, 300, 3), (300, 300, 3), (300, 300, 3), (300, 300, 3), (300, 300, 3), (300, 300, 3), (300, 300, 3), (300, 300, 3), (300, 300, 3), (300, 300, 3), (300, 300, 3), (300, 300, 3), (300, 300, 3), (300, 300, 3), (300, 300, 3), (300, 300, 3), (300, 300, 3), (300, 300, 3), (300, 300, 3), (300, 300, 3), (300, 300, 3), (300, 300, 3), (300, 300, 3), (300, 300, 3), (300, 300, 3), (300, 300, 3), (300, 300, 3), (300, 300, 3), (300, 300, 3), (300, 300, 3), (300, 300, 3), (300, 300, 3), (300, 300, 3), (300, 300, 3), (300, 300, 3), (300, 300, 3), (300, 300, 3), (300, 300, 3), (300, 300, 3), (300, 300, 3), (300, 300, 3), (300, 300, 3), (300, 300, 3), (300, 300, 3), (300, 300, 3), (300, 300, 3), (300, 300, 3), (300, 300, 3), (300, 300, 3), (300, 300, 3), (300, 300, 3), (300, 300, 3), (300, 300, 3), (300, 300, 3), (300, 300, 3), (300, 300, 3), (300, 300, 3), (300, 300, 3), (300, 300, 3), (300, 300, 3), (300, 300, 3), (300, 300, 3), (300, 300, 3), (300, 300, 3), (300, 300, 3), (300, 300, 3), (300, 300, 3), (300, 300, 3), (300, 300, 3), (300, 300, 3), (300, 300, 3), (300, 300, 3), (300, 300, 3), (300, 300, 3), (300, 300, 3), (300, 300, 3), (300, 300, 3), (300, 300, 3), (300, 300, 3), (300, 300, 3), (300, 300, 3), (300, 300, 3), (300, 300, 3), (300, 300, 3), (300, 300, 3), (300, 300, 3), (300, 300, 3), (300, 300, 3), (300, 300, 3), (300, 300, 3), (300, 300, 3), (300, 300, 3), (300, 300, 3), (300, 300, 3), (300, 300, 3), (300, 300, 3), (300, 300, 3), (300, 300, 3), (300, 300, 3), (300, 300, 3), (300, 300, 3), (300, 300, 3), (300, 300, 3), (300, 300, 3), (300, 300, 3), (300, 300, 3), (300, 300, 3), (300, 300, 3), (300, 300, 3), (300, 300, 3), (300, 300, 3), (300, 300, 3), (300, 300, 3), (300, 300, 3), (300, 300, 3), (300, 300, 3), (300, 300, 3), (300, 300, 3), (300, 300, 3), (300, 300, 3), (300, 300, 3), (300, 300, 3), (300, 300, 3), (300, 300, 3), (300, 300, 3), (300, 300, 3), (300, 300, 3), (300, 300, 3), (300, 300, 3), (300, 300, 3), (300, 300, 3), (300, 300, 3), (300, 300, 3), (300, 300, 3), (300, 300, 3), (300, 300, 3), (300, 300, 3), (300, 300, 3), (300, 300, 3), (300, 300, 3), (300, 300, 3), (300, 300, 3), (300, 300, 3), (300, 300, 3), (300, 300, 3), (300, 300, 3), (300, 300, 3), (300, 300, 3), (300, 300, 3), (300, 300, 3), (300, 300, 3), (300, 300, 3), (300, 300, 3), (300, 300, 3), (300, 300, 3), (300, 300, 3), (300, 300, 3), (300, 300, 3), (300, 300, 3), (300, 300, 3), (300, 300, 3), (300, 300, 3), (300, 300, 3), (300, 300, 3), (300, 300, 3), (300, 300, 3), (300, 300, 3), (300, 300, 3), (300, 300, 3), (300, 300, 3), (300, 300, 3), (300, 300, 3), (300, 300, 3), (300, 300, 3), (300, 300, 3), (300, 300, 3), (300, 300, 3), (300, 300, 3), (300, 300, 3), (300, 300, 3), (300, 300, 3), (300, 300, 3), (300, 300, 3), (300, 300, 3), (300, 300, 3), (300, 300, 3), (300, 300, 3), (300, 300, 3), (300, 300, 3), (300, 300, 3), (300, 300, 3), (300, 300, 3), (300, 300, 3), (300, 300, 3), (300, 300, 3), (300, 300, 3), (300, 300, 3), (300, 300, 3), (300, 300, 3), (300, 300, 3), (300, 300, 3), (300, 300, 3), (300, 300, 3), (300, 300, 3), (300, 300, 3), (300, 300, 3), (300, 300, 3), (300, 300, 3), (300, 300, 3), (300, 300, 3), (300, 300, 3), (300, 300, 3), (300, 300, 3), (300, 300, 3), (300, 300, 3), (300, 300, 3), (300, 300, 3)]\n",
            "702\n",
            "702 702\n"
          ],
          "name": "stdout"
        }
      ]
    },
    {
      "cell_type": "code",
      "metadata": {
        "id": "jrEWWFHZkv-K",
        "colab_type": "code",
        "colab": {
          "base_uri": "https://localhost:8080/",
          "height": 86
        },
        "outputId": "0d2857bb-3607-48a8-c0ee-135b8deddbf6"
      },
      "source": [
        "import sklearn\n",
        "x_data,y_data = sklearn.utils.shuffle(x_data,y_data)\n",
        "print(y_data[:5])\n",
        "\n",
        "x_train,y_train = x_data[:400],y_data[:400]\n",
        "x_test,y_test = x_data[400:600],y_data[400:600]\n",
        "x_val,y_val = x_data[600:],y_data[600:]\n",
        "print(len(x_train),len(y_train))\n",
        "\n",
        "print(len(x_test),len(y_test))\n",
        "print(len(x_val),len(y_val))"
      ],
      "execution_count": null,
      "outputs": [
        {
          "output_type": "stream",
          "text": [
            "[0, 0, 1, 1, 1]\n",
            "400 400\n",
            "200 200\n",
            "102 102\n"
          ],
          "name": "stdout"
        }
      ]
    },
    {
      "cell_type": "code",
      "metadata": {
        "id": "R4Z_n2P1bGPS",
        "colab_type": "code",
        "colab": {
          "base_uri": "https://localhost:8080/",
          "height": 34
        },
        "outputId": "572b0fc9-279b-4dc3-d864-18582d228943"
      },
      "source": [
        "x_train = np.asarray([i for i in x_train])\n",
        "#x_tr=np.reshape(x_train,())\n",
        "x_test = np.asarray([i for i in x_test])\n",
        "x_val = np.asarray([i for i in x_val])\n",
        "\n",
        "print(x_train.shape)\n",
        "y_train = keras.utils.to_categorical(y_train)\n",
        "y_test = keras.utils.to_categorical(y_test)\n",
        "y_val = keras.utils.to_categorical(y_val)"
      ],
      "execution_count": null,
      "outputs": [
        {
          "output_type": "stream",
          "text": [
            "(400, 300, 300, 3)\n"
          ],
          "name": "stdout"
        }
      ]
    },
    {
      "cell_type": "code",
      "metadata": {
        "id": "LElGLNsBYWwG",
        "colab_type": "code",
        "colab": {}
      },
      "source": [
        "#print(x_train)\n",
        "#print(type(x_train))"
      ],
      "execution_count": null,
      "outputs": []
    },
    {
      "cell_type": "code",
      "metadata": {
        "id": "odVIE9cgB39X",
        "colab_type": "code",
        "colab": {}
      },
      "source": [
        "def inception_module_a(x,\n",
        "                      filters_1x1_a,\n",
        "                      filters_1x1_b,\n",
        "                      filters_1x1_c,\n",
        "                      filters_1x1_d,\n",
        "                      filters_3x3_a,\n",
        "                      filters_3x3_b,\n",
        "                      filters_3x3_c,\n",
        "                      name=None):\n",
        "    conv_1x1_a = Conv2D(filters_1x1_a, (1, 1), padding='same', activation='relu', kernel_initializer=kernel_init, bias_initializer=bias_init)(x)\n",
        "    conv_1x1_b = Conv2D(filters_1x1_b, (1, 1), padding='same', activation='relu', kernel_initializer=kernel_init, bias_initializer=bias_init)(x)\n",
        "    pool = MaxPool2D((3, 3), strides=(1, 1), padding='same')(x)\n",
        "    conv_1x1_c = Conv2D(filters_1x1_c, (1, 1), padding='same', activation='relu', kernel_initializer=kernel_init, bias_initializer=bias_init)(x)\n",
        "    \n",
        "    conv_3x3_a = Conv2D(filters_3x3_a, (3,3), padding='same', activation='relu', kernel_initializer=kernel_init, bias_initializer=bias_init)(conv_1x1_a)\n",
        "    conv_3x3_b = Conv2D(filters_3x3_b, (3,3), padding='same', activation='relu', kernel_initializer=kernel_init, bias_initializer=bias_init)(conv_1x1_b)\n",
        "    conv_1x1_d = Conv2D(filters_1x1_d, (3,3), padding='same', activation='relu', kernel_initializer=kernel_init, bias_initializer=bias_init)(pool)\n",
        "    \n",
        "    conv_3x3_c = Conv2D(filters_3x3_c, (3,3), padding='same', activation='relu', kernel_initializer=kernel_init, bias_initializer=bias_init)(conv_3x3_a)\n",
        "    \n",
        "    output = concatenate([conv_1x1_c,conv_1x1_d,conv_3x3_b,conv_3x3_c], axis=3, name=name)\n",
        "    \n",
        "    return output\n",
        "\n",
        "def inception_module_b(x,\n",
        "                       n,\n",
        "                      filters_1x1_a,\n",
        "                      filters_1x1_b,\n",
        "                      filters_1x1_c,\n",
        "                      filters_1x1_d,\n",
        "                      filters_1xn_a,\n",
        "                      filters_1xn_b,\n",
        "                      filters_1xn_c,\n",
        "                      filters_nx1_a,\n",
        "                      filters_nx1_b,\n",
        "                      filters_nx1_c,\n",
        "                      name=None):\n",
        "    conv_1x1_a = Conv2D(filters_1x1_a, (1, 1), padding='same', activation='relu', kernel_initializer=kernel_init, bias_initializer=bias_init)(x)\n",
        "    conv_1x1_b = Conv2D(filters_1x1_b, (1, 1), padding='same', activation='relu', kernel_initializer=kernel_init, bias_initializer=bias_init)(x)\n",
        "    conv_1x1_c = Conv2D(filters_1x1_c, (1, 1), padding='same', activation='relu', kernel_initializer=kernel_init, bias_initializer=bias_init)(x)\n",
        "    pool = MaxPool2D((3, 3), strides=(1, 1), padding='same')(x)\n",
        "    \n",
        "    conv_1xn_a = Conv2D(filters_1xn_a, (1, n), padding='same', activation='relu', kernel_initializer=kernel_init, bias_initializer=bias_init)(conv_1x1_a)\n",
        "    conv_1xn_b = Conv2D(filters_1xn_b, (1, n), padding='same', activation='relu', kernel_initializer=kernel_init, bias_initializer=bias_init)(conv_1x1_b)\n",
        "    conv_1x1_d = Conv2D(filters_1x1_d, (1, 1), padding='same', activation='relu', kernel_initializer=kernel_init, bias_initializer=bias_init)(pool)\n",
        "    \n",
        "    conv_nx1_a = Conv2D(filters_nx1_a, (n, 1), padding='same', activation='relu', kernel_initializer=kernel_init, bias_initializer=bias_init)(conv_1xn_a)\n",
        "    conv_nx1_b = Conv2D(filters_nx1_b, (n, 1), padding='same', activation='relu', kernel_initializer=kernel_init, bias_initializer=bias_init)(conv_1xn_b)\n",
        "    \n",
        "    conv_1xn_c = Conv2D(filters_1xn_c, (1,n), padding='same', activation='relu', kernel_initializer=kernel_init, bias_initializer=bias_init)(conv_nx1_a)\n",
        "    \n",
        "    conv_nx1_c = Conv2D(filters_1xn_c, (n, 1), padding='same', activation='relu', kernel_initializer=kernel_init, bias_initializer=bias_init)(conv_1xn_c)\n",
        "    \n",
        "    output = concatenate([conv_1x1_c,conv_1x1_d,conv_nx1_b,conv_nx1_c], axis=3, name=name)\n",
        "    \n",
        "    return output\n",
        "\n",
        "def inception_module_c(x,\n",
        "                      filters_1x1_a,\n",
        "                      filters_1x1_b,\n",
        "                      filters_1x1_c,\n",
        "                      filters_1x1_d,\n",
        "                      filters_1x3_a,\n",
        "                      filters_1x3_b,\n",
        "                      filters_3x1_a,\n",
        "                      filters_3x1_b,\n",
        "                      filters_3x3,\n",
        "                      name=None):\n",
        "    conv_1x1_a = Conv2D(filters_1x1_a, (1, 1), padding='same', activation='relu', kernel_initializer=kernel_init, bias_initializer=bias_init)(x)\n",
        "    conv_1x1_b = Conv2D(filters_1x1_b, (1, 1), padding='same', activation='relu', kernel_initializer=kernel_init, bias_initializer=bias_init)(x)\n",
        "    conv_1x1_c = Conv2D(filters_1x1_c, (1, 1), padding='same', activation='relu', kernel_initializer=kernel_init, bias_initializer=bias_init)(x)\n",
        "    pool = MaxPool2D((3, 3), strides=(1, 1), padding='same')(x)\n",
        "    \n",
        "    conv_1x1_d = Conv2D(filters_1x1_d, (1, 1), padding='same', activation='relu', kernel_initializer=kernel_init, bias_initializer=bias_init)(pool)\n",
        "    conv_3x3 = Conv2D(filters_3x3, (3,3), padding='same', activation='relu', kernel_initializer=kernel_init, bias_initializer=bias_init)(conv_1x1_a)\n",
        "    conv_1x3_a = Conv2D(filters_1x3_a, (1, 3), padding='same', activation='relu', kernel_initializer=kernel_init, bias_initializer=bias_init)(conv_1x1_b)\n",
        "    conv_3x1_a = Conv2D(filters_3x1_a, (3, 1), padding='same', activation='relu', kernel_initializer=kernel_init, bias_initializer=bias_init)(conv_1x1_b)\n",
        "    \n",
        "    conv_1x3_b = Conv2D(filters_1x3_b, (1, 3), padding='same', activation='relu', kernel_initializer=kernel_init, bias_initializer=bias_init)(conv_3x3)\n",
        "    conv_3x1_b = Conv2D(filters_3x1_b, (3,1), padding='same', activation='relu', kernel_initializer=kernel_init, bias_initializer=bias_init)(conv_3x3)\n",
        "    \n",
        "    output = concatenate([conv_1x1_c,conv_1x1_d,conv_3x1_a,conv_1x3_a,conv_1x3_b,conv_3x1_b], axis=3, name=name)\n",
        "    \n",
        "    return output\n",
        "\n",
        "def inception():\n",
        "    input_layer = Input(shape=(300,300,3))\n",
        "    \n",
        "    x = Conv2D(64, (3,3), strides=(2, 2), activation='relu', name='conv_1_3x3/2_a', kernel_initializer=kernel_init, bias_initializer=bias_init)(input_layer)\n",
        "    x = Conv2D(64, (3,3), strides=(1,1), activation='relu', name='conv_1_3x3/1_a', kernel_initializer=kernel_init, bias_initializer=bias_init)(x)\n",
        "    x = Conv2D(64, (3,3), strides=(1,1), padding = 'same', activation='relu', name='conv_1_3x3/1', kernel_initializer=kernel_init, bias_initializer=bias_init)(x)\n",
        "    \n",
        "    pool = MaxPool2D((3, 3), strides=(1, 1), padding='same')(x)\n",
        "    x = Conv2D(64, (3,3), strides=(1,1), activation='relu', name='conv_1_3x3/1_b', kernel_initializer=kernel_init, bias_initializer=bias_init)(pool)\n",
        "    x = Conv2D(64, (3,3), strides=(2,2), activation='relu', name='conv_1_3x3/2_b', kernel_initializer=kernel_init, bias_initializer=bias_init)(x)\n",
        "    x = Conv2D(64, (3,3), strides=(1,1), activation='relu', name='conv_1_3x3/1_c', kernel_initializer=kernel_init, bias_initializer=bias_init)(x)\n",
        "    \n",
        "    x = inception_module_a(x,16,16,32,64,32,32,32,\"a1\")\n",
        "    x = inception_module_a(x,16,16,32,64,32,32,32,\"a2\")\n",
        "    x = inception_module_a(x,16,16,32,64,32,32,32,\"a3\")\n",
        "    \n",
        "    x = inception_module_b(x,7,24,24,24,32,32,16,16,32,32,32,\"b1\")\n",
        "    x = inception_module_b(x,7,24,24,24,32,32,16,16,32,32,32,\"b2\")\n",
        "    x = inception_module_b(x,7,24,24,24,32,32,16,16,32,32,32,\"b3\")\n",
        "    x = inception_module_b(x,7,24,24,24,32,32,16,16,32,32,32,\"b4\")\n",
        "    x = inception_module_b(x,7,24,24,24,32,32,16,16,32,32,32,\"b5\")\n",
        "    \n",
        "    x = inception_module_c(x,32,32,32,64,64,64,32,64,64,\"c1\")\n",
        "    x = inception_module_c(x,32,32,32,64,64,64,32,64,64,\"c2\")\n",
        "    x = inception_module_c(x,32,32,32,64,64,64,32,64,64,\"c3\")\n",
        "    \n",
        "    if include_top == True:\n",
        "      pool = MaxPool2D((8,8),strides=(1,1),padding = 'same')(x)\n",
        "\n",
        "      x = GlobalAveragePooling2D(name='avg_pool3')(pool)\n",
        "\n",
        "      x = Dropout(0.4)(x)\n",
        "\n",
        "      x = Dense(2, activation='softmax', name='output3')(x)\n",
        "    elif include_top == False:\n",
        "      return x;\n",
        "    "
      ],
      "execution_count": null,
      "outputs": []
    },
    {
      "cell_type": "code",
      "metadata": {
        "id": "Feo1lUrjErWT",
        "colab_type": "code",
        "colab": {}
      },
      "source": [
        "kernel_init = keras.initializers.glorot_uniform()\n",
        "bias_init = keras.initializers.Constant(value=0.2)"
      ],
      "execution_count": null,
      "outputs": []
    },
    {
      "cell_type": "code",
      "metadata": {
        "id": "PeWndRaaC08I",
        "colab_type": "code",
        "colab": {}
      },
      "source": [
        "import keras\n",
        "from keras.models import Sequential\n",
        "from keras.layers import Dense,Flatten\n",
        "\n",
        "model = Sequential()\n",
        "input_layer = Input(shape=(300,300,3))\n",
        "    \n",
        "x = Conv2D(64, (3,3), strides=(2, 2), activation='relu', name='conv_1_3x3/2_a', kernel_initializer=kernel_init, bias_initializer=bias_init)(input_layer)\n",
        "x = Conv2D(64, (3,3), strides=(1,1), activation='relu', name='conv_1_3x3/1_a', kernel_initializer=kernel_init, bias_initializer=bias_init)(x)\n",
        "x = Conv2D(64, (3,3), strides=(1,1), padding = 'same', activation='relu', name='conv_1_3x3/1', kernel_initializer=kernel_init, bias_initializer=bias_init)(x)\n",
        "\n",
        "pool = MaxPool2D((3, 3), strides=(1, 1), padding='same')(x)\n",
        "x = Conv2D(64, (3,3), strides=(1,1), activation='relu', name='conv_1_3x3/1_b', kernel_initializer=kernel_init, bias_initializer=bias_init)(pool)\n",
        "x = Conv2D(64, (3,3), strides=(2,2), activation='relu', name='conv_1_3x3/2_b', kernel_initializer=kernel_init, bias_initializer=bias_init)(x)\n",
        "x = Conv2D(64, (3,3), strides=(1,1), activation='relu', name='conv_1_3x3/1_c', kernel_initializer=kernel_init, bias_initializer=bias_init)(x)\n",
        "\n",
        "pool1 = MaxPool2D((8,8),strides=(1,1),padding = 'same')(x)\n",
        "\n",
        "x = inception_module_a(x,16,16,32,64,32,32,32,\"a1\")\n",
        "x = inception_module_a(x,16,16,32,64,32,32,32,\"a2\")\n",
        "x = inception_module_a(x,16,16,32,64,32,32,32,\"a3\")\n",
        "\n",
        "x = inception_module_b(x,7,24,24,24,32,32,16,16,32,32,32,\"b1\")\n",
        "x = inception_module_b(x,7,24,24,24,32,32,16,16,32,32,32,\"b2\")\n",
        "x = inception_module_b(x,7,24,24,24,32,32,16,16,32,32,32,\"b3\")\n",
        "x = inception_module_b(x,7,24,24,24,32,32,16,16,32,32,32,\"b4\")\n",
        "x = inception_module_b(x,7,24,24,24,32,32,16,16,32,32,32,\"b5\")\n",
        "\n",
        "\n",
        "pool2 = MaxPool2D((8,8),strides=(1,1),padding = 'same')(x)\n",
        "\n",
        "x = inception_module_c(x,32,32,32,64,64,64,32,64,64,\"c1\")\n",
        "x = inception_module_c(x,32,32,32,64,64,64,32,64,64,\"c2\")\n",
        "x = inception_module_c(x,32,32,32,64,64,64,32,64,64,\"c3\")\n",
        "\n",
        "pool3 = MaxPool2D((8,8),strides=(1,1),padding = 'same')(x)\n",
        "InceptionV2 = pool3\n"
      ],
      "execution_count": null,
      "outputs": []
    },
    {
      "cell_type": "code",
      "metadata": {
        "id": "N7wquXdN-RiD",
        "colab_type": "code",
        "colab": {}
      },
      "source": [
        "InceptionV2_Model = Model(input_layer,InceptionV2,name='InceptionV2_Model')"
      ],
      "execution_count": null,
      "outputs": []
    },
    {
      "cell_type": "code",
      "metadata": {
        "id": "GyHHDSxE-jMQ",
        "colab_type": "code",
        "colab": {
          "base_uri": "https://localhost:8080/",
          "height": 1000
        },
        "outputId": "7da3230c-e43f-4513-eb70-054baad9240b"
      },
      "source": [
        "InceptionV2_Model.summary()"
      ],
      "execution_count": null,
      "outputs": [
        {
          "output_type": "stream",
          "text": [
            "Model: \"InceptionV2_Model\"\n",
            "__________________________________________________________________________________________________\n",
            "Layer (type)                    Output Shape         Param #     Connected to                     \n",
            "==================================================================================================\n",
            "input_3 (InputLayer)            (None, 300, 300, 3)  0                                            \n",
            "__________________________________________________________________________________________________\n",
            "conv_1_3x3/2_a (Conv2D)         (None, 149, 149, 64) 1792        input_3[0][0]                    \n",
            "__________________________________________________________________________________________________\n",
            "conv_1_3x3/1_a (Conv2D)         (None, 147, 147, 64) 36928       conv_1_3x3/2_a[0][0]             \n",
            "__________________________________________________________________________________________________\n",
            "conv_1_3x3/1 (Conv2D)           (None, 147, 147, 64) 36928       conv_1_3x3/1_a[0][0]             \n",
            "__________________________________________________________________________________________________\n",
            "max_pooling2d_31 (MaxPooling2D) (None, 147, 147, 64) 0           conv_1_3x3/1[0][0]               \n",
            "__________________________________________________________________________________________________\n",
            "conv_1_3x3/1_b (Conv2D)         (None, 145, 145, 64) 36928       max_pooling2d_31[0][0]           \n",
            "__________________________________________________________________________________________________\n",
            "conv_1_3x3/2_b (Conv2D)         (None, 72, 72, 64)   36928       conv_1_3x3/1_b[0][0]             \n",
            "__________________________________________________________________________________________________\n",
            "conv_1_3x3/1_c (Conv2D)         (None, 70, 70, 64)   36928       conv_1_3x3/2_b[0][0]             \n",
            "__________________________________________________________________________________________________\n",
            "conv2d_197 (Conv2D)             (None, 70, 70, 16)   1040        conv_1_3x3/1_c[0][0]             \n",
            "__________________________________________________________________________________________________\n",
            "max_pooling2d_33 (MaxPooling2D) (None, 70, 70, 64)   0           conv_1_3x3/1_c[0][0]             \n",
            "__________________________________________________________________________________________________\n",
            "conv2d_198 (Conv2D)             (None, 70, 70, 16)   1040        conv_1_3x3/1_c[0][0]             \n",
            "__________________________________________________________________________________________________\n",
            "conv2d_200 (Conv2D)             (None, 70, 70, 32)   4640        conv2d_197[0][0]                 \n",
            "__________________________________________________________________________________________________\n",
            "conv2d_199 (Conv2D)             (None, 70, 70, 32)   2080        conv_1_3x3/1_c[0][0]             \n",
            "__________________________________________________________________________________________________\n",
            "conv2d_202 (Conv2D)             (None, 70, 70, 64)   36928       max_pooling2d_33[0][0]           \n",
            "__________________________________________________________________________________________________\n",
            "conv2d_201 (Conv2D)             (None, 70, 70, 32)   4640        conv2d_198[0][0]                 \n",
            "__________________________________________________________________________________________________\n",
            "conv2d_203 (Conv2D)             (None, 70, 70, 32)   9248        conv2d_200[0][0]                 \n",
            "__________________________________________________________________________________________________\n",
            "a1 (Concatenate)                (None, 70, 70, 160)  0           conv2d_199[0][0]                 \n",
            "                                                                 conv2d_202[0][0]                 \n",
            "                                                                 conv2d_201[0][0]                 \n",
            "                                                                 conv2d_203[0][0]                 \n",
            "__________________________________________________________________________________________________\n",
            "conv2d_204 (Conv2D)             (None, 70, 70, 16)   2576        a1[0][0]                         \n",
            "__________________________________________________________________________________________________\n",
            "max_pooling2d_34 (MaxPooling2D) (None, 70, 70, 160)  0           a1[0][0]                         \n",
            "__________________________________________________________________________________________________\n",
            "conv2d_205 (Conv2D)             (None, 70, 70, 16)   2576        a1[0][0]                         \n",
            "__________________________________________________________________________________________________\n",
            "conv2d_207 (Conv2D)             (None, 70, 70, 32)   4640        conv2d_204[0][0]                 \n",
            "__________________________________________________________________________________________________\n",
            "conv2d_206 (Conv2D)             (None, 70, 70, 32)   5152        a1[0][0]                         \n",
            "__________________________________________________________________________________________________\n",
            "conv2d_209 (Conv2D)             (None, 70, 70, 64)   92224       max_pooling2d_34[0][0]           \n",
            "__________________________________________________________________________________________________\n",
            "conv2d_208 (Conv2D)             (None, 70, 70, 32)   4640        conv2d_205[0][0]                 \n",
            "__________________________________________________________________________________________________\n",
            "conv2d_210 (Conv2D)             (None, 70, 70, 32)   9248        conv2d_207[0][0]                 \n",
            "__________________________________________________________________________________________________\n",
            "a2 (Concatenate)                (None, 70, 70, 160)  0           conv2d_206[0][0]                 \n",
            "                                                                 conv2d_209[0][0]                 \n",
            "                                                                 conv2d_208[0][0]                 \n",
            "                                                                 conv2d_210[0][0]                 \n",
            "__________________________________________________________________________________________________\n",
            "conv2d_211 (Conv2D)             (None, 70, 70, 16)   2576        a2[0][0]                         \n",
            "__________________________________________________________________________________________________\n",
            "max_pooling2d_35 (MaxPooling2D) (None, 70, 70, 160)  0           a2[0][0]                         \n",
            "__________________________________________________________________________________________________\n",
            "conv2d_212 (Conv2D)             (None, 70, 70, 16)   2576        a2[0][0]                         \n",
            "__________________________________________________________________________________________________\n",
            "conv2d_214 (Conv2D)             (None, 70, 70, 32)   4640        conv2d_211[0][0]                 \n",
            "__________________________________________________________________________________________________\n",
            "conv2d_213 (Conv2D)             (None, 70, 70, 32)   5152        a2[0][0]                         \n",
            "__________________________________________________________________________________________________\n",
            "conv2d_216 (Conv2D)             (None, 70, 70, 64)   92224       max_pooling2d_35[0][0]           \n",
            "__________________________________________________________________________________________________\n",
            "conv2d_215 (Conv2D)             (None, 70, 70, 32)   4640        conv2d_212[0][0]                 \n",
            "__________________________________________________________________________________________________\n",
            "conv2d_217 (Conv2D)             (None, 70, 70, 32)   9248        conv2d_214[0][0]                 \n",
            "__________________________________________________________________________________________________\n",
            "a3 (Concatenate)                (None, 70, 70, 160)  0           conv2d_213[0][0]                 \n",
            "                                                                 conv2d_216[0][0]                 \n",
            "                                                                 conv2d_215[0][0]                 \n",
            "                                                                 conv2d_217[0][0]                 \n",
            "__________________________________________________________________________________________________\n",
            "conv2d_218 (Conv2D)             (None, 70, 70, 24)   3864        a3[0][0]                         \n",
            "__________________________________________________________________________________________________\n",
            "conv2d_221 (Conv2D)             (None, 70, 70, 32)   5408        conv2d_218[0][0]                 \n",
            "__________________________________________________________________________________________________\n",
            "conv2d_219 (Conv2D)             (None, 70, 70, 24)   3864        a3[0][0]                         \n",
            "__________________________________________________________________________________________________\n",
            "conv2d_224 (Conv2D)             (None, 70, 70, 32)   7200        conv2d_221[0][0]                 \n",
            "__________________________________________________________________________________________________\n",
            "max_pooling2d_36 (MaxPooling2D) (None, 70, 70, 160)  0           a3[0][0]                         \n",
            "__________________________________________________________________________________________________\n",
            "conv2d_222 (Conv2D)             (None, 70, 70, 16)   2704        conv2d_219[0][0]                 \n",
            "__________________________________________________________________________________________________\n",
            "conv2d_226 (Conv2D)             (None, 70, 70, 16)   3600        conv2d_224[0][0]                 \n",
            "__________________________________________________________________________________________________\n",
            "conv2d_220 (Conv2D)             (None, 70, 70, 24)   3864        a3[0][0]                         \n",
            "__________________________________________________________________________________________________\n",
            "conv2d_223 (Conv2D)             (None, 70, 70, 32)   5152        max_pooling2d_36[0][0]           \n",
            "__________________________________________________________________________________________________\n",
            "conv2d_225 (Conv2D)             (None, 70, 70, 32)   3616        conv2d_222[0][0]                 \n",
            "__________________________________________________________________________________________________\n",
            "conv2d_227 (Conv2D)             (None, 70, 70, 16)   1808        conv2d_226[0][0]                 \n",
            "__________________________________________________________________________________________________\n",
            "b1 (Concatenate)                (None, 70, 70, 104)  0           conv2d_220[0][0]                 \n",
            "                                                                 conv2d_223[0][0]                 \n",
            "                                                                 conv2d_225[0][0]                 \n",
            "                                                                 conv2d_227[0][0]                 \n",
            "__________________________________________________________________________________________________\n",
            "conv2d_228 (Conv2D)             (None, 70, 70, 24)   2520        b1[0][0]                         \n",
            "__________________________________________________________________________________________________\n",
            "conv2d_231 (Conv2D)             (None, 70, 70, 32)   5408        conv2d_228[0][0]                 \n",
            "__________________________________________________________________________________________________\n",
            "conv2d_229 (Conv2D)             (None, 70, 70, 24)   2520        b1[0][0]                         \n",
            "__________________________________________________________________________________________________\n",
            "conv2d_234 (Conv2D)             (None, 70, 70, 32)   7200        conv2d_231[0][0]                 \n",
            "__________________________________________________________________________________________________\n",
            "max_pooling2d_37 (MaxPooling2D) (None, 70, 70, 104)  0           b1[0][0]                         \n",
            "__________________________________________________________________________________________________\n",
            "conv2d_232 (Conv2D)             (None, 70, 70, 16)   2704        conv2d_229[0][0]                 \n",
            "__________________________________________________________________________________________________\n",
            "conv2d_236 (Conv2D)             (None, 70, 70, 16)   3600        conv2d_234[0][0]                 \n",
            "__________________________________________________________________________________________________\n",
            "conv2d_230 (Conv2D)             (None, 70, 70, 24)   2520        b1[0][0]                         \n",
            "__________________________________________________________________________________________________\n",
            "conv2d_233 (Conv2D)             (None, 70, 70, 32)   3360        max_pooling2d_37[0][0]           \n",
            "__________________________________________________________________________________________________\n",
            "conv2d_235 (Conv2D)             (None, 70, 70, 32)   3616        conv2d_232[0][0]                 \n",
            "__________________________________________________________________________________________________\n",
            "conv2d_237 (Conv2D)             (None, 70, 70, 16)   1808        conv2d_236[0][0]                 \n",
            "__________________________________________________________________________________________________\n",
            "b2 (Concatenate)                (None, 70, 70, 104)  0           conv2d_230[0][0]                 \n",
            "                                                                 conv2d_233[0][0]                 \n",
            "                                                                 conv2d_235[0][0]                 \n",
            "                                                                 conv2d_237[0][0]                 \n",
            "__________________________________________________________________________________________________\n",
            "conv2d_238 (Conv2D)             (None, 70, 70, 24)   2520        b2[0][0]                         \n",
            "__________________________________________________________________________________________________\n",
            "conv2d_241 (Conv2D)             (None, 70, 70, 32)   5408        conv2d_238[0][0]                 \n",
            "__________________________________________________________________________________________________\n",
            "conv2d_239 (Conv2D)             (None, 70, 70, 24)   2520        b2[0][0]                         \n",
            "__________________________________________________________________________________________________\n",
            "conv2d_244 (Conv2D)             (None, 70, 70, 32)   7200        conv2d_241[0][0]                 \n",
            "__________________________________________________________________________________________________\n",
            "max_pooling2d_38 (MaxPooling2D) (None, 70, 70, 104)  0           b2[0][0]                         \n",
            "__________________________________________________________________________________________________\n",
            "conv2d_242 (Conv2D)             (None, 70, 70, 16)   2704        conv2d_239[0][0]                 \n",
            "__________________________________________________________________________________________________\n",
            "conv2d_246 (Conv2D)             (None, 70, 70, 16)   3600        conv2d_244[0][0]                 \n",
            "__________________________________________________________________________________________________\n",
            "conv2d_240 (Conv2D)             (None, 70, 70, 24)   2520        b2[0][0]                         \n",
            "__________________________________________________________________________________________________\n",
            "conv2d_243 (Conv2D)             (None, 70, 70, 32)   3360        max_pooling2d_38[0][0]           \n",
            "__________________________________________________________________________________________________\n",
            "conv2d_245 (Conv2D)             (None, 70, 70, 32)   3616        conv2d_242[0][0]                 \n",
            "__________________________________________________________________________________________________\n",
            "conv2d_247 (Conv2D)             (None, 70, 70, 16)   1808        conv2d_246[0][0]                 \n",
            "__________________________________________________________________________________________________\n",
            "b3 (Concatenate)                (None, 70, 70, 104)  0           conv2d_240[0][0]                 \n",
            "                                                                 conv2d_243[0][0]                 \n",
            "                                                                 conv2d_245[0][0]                 \n",
            "                                                                 conv2d_247[0][0]                 \n",
            "__________________________________________________________________________________________________\n",
            "conv2d_248 (Conv2D)             (None, 70, 70, 24)   2520        b3[0][0]                         \n",
            "__________________________________________________________________________________________________\n",
            "conv2d_251 (Conv2D)             (None, 70, 70, 32)   5408        conv2d_248[0][0]                 \n",
            "__________________________________________________________________________________________________\n",
            "conv2d_249 (Conv2D)             (None, 70, 70, 24)   2520        b3[0][0]                         \n",
            "__________________________________________________________________________________________________\n",
            "conv2d_254 (Conv2D)             (None, 70, 70, 32)   7200        conv2d_251[0][0]                 \n",
            "__________________________________________________________________________________________________\n",
            "max_pooling2d_39 (MaxPooling2D) (None, 70, 70, 104)  0           b3[0][0]                         \n",
            "__________________________________________________________________________________________________\n",
            "conv2d_252 (Conv2D)             (None, 70, 70, 16)   2704        conv2d_249[0][0]                 \n",
            "__________________________________________________________________________________________________\n",
            "conv2d_256 (Conv2D)             (None, 70, 70, 16)   3600        conv2d_254[0][0]                 \n",
            "__________________________________________________________________________________________________\n",
            "conv2d_250 (Conv2D)             (None, 70, 70, 24)   2520        b3[0][0]                         \n",
            "__________________________________________________________________________________________________\n",
            "conv2d_253 (Conv2D)             (None, 70, 70, 32)   3360        max_pooling2d_39[0][0]           \n",
            "__________________________________________________________________________________________________\n",
            "conv2d_255 (Conv2D)             (None, 70, 70, 32)   3616        conv2d_252[0][0]                 \n",
            "__________________________________________________________________________________________________\n",
            "conv2d_257 (Conv2D)             (None, 70, 70, 16)   1808        conv2d_256[0][0]                 \n",
            "__________________________________________________________________________________________________\n",
            "b4 (Concatenate)                (None, 70, 70, 104)  0           conv2d_250[0][0]                 \n",
            "                                                                 conv2d_253[0][0]                 \n",
            "                                                                 conv2d_255[0][0]                 \n",
            "                                                                 conv2d_257[0][0]                 \n",
            "__________________________________________________________________________________________________\n",
            "conv2d_258 (Conv2D)             (None, 70, 70, 24)   2520        b4[0][0]                         \n",
            "__________________________________________________________________________________________________\n",
            "conv2d_261 (Conv2D)             (None, 70, 70, 32)   5408        conv2d_258[0][0]                 \n",
            "__________________________________________________________________________________________________\n",
            "conv2d_259 (Conv2D)             (None, 70, 70, 24)   2520        b4[0][0]                         \n",
            "__________________________________________________________________________________________________\n",
            "conv2d_264 (Conv2D)             (None, 70, 70, 32)   7200        conv2d_261[0][0]                 \n",
            "__________________________________________________________________________________________________\n",
            "max_pooling2d_40 (MaxPooling2D) (None, 70, 70, 104)  0           b4[0][0]                         \n",
            "__________________________________________________________________________________________________\n",
            "conv2d_262 (Conv2D)             (None, 70, 70, 16)   2704        conv2d_259[0][0]                 \n",
            "__________________________________________________________________________________________________\n",
            "conv2d_266 (Conv2D)             (None, 70, 70, 16)   3600        conv2d_264[0][0]                 \n",
            "__________________________________________________________________________________________________\n",
            "conv2d_260 (Conv2D)             (None, 70, 70, 24)   2520        b4[0][0]                         \n",
            "__________________________________________________________________________________________________\n",
            "conv2d_263 (Conv2D)             (None, 70, 70, 32)   3360        max_pooling2d_40[0][0]           \n",
            "__________________________________________________________________________________________________\n",
            "conv2d_265 (Conv2D)             (None, 70, 70, 32)   3616        conv2d_262[0][0]                 \n",
            "__________________________________________________________________________________________________\n",
            "conv2d_267 (Conv2D)             (None, 70, 70, 16)   1808        conv2d_266[0][0]                 \n",
            "__________________________________________________________________________________________________\n",
            "b5 (Concatenate)                (None, 70, 70, 104)  0           conv2d_260[0][0]                 \n",
            "                                                                 conv2d_263[0][0]                 \n",
            "                                                                 conv2d_265[0][0]                 \n",
            "                                                                 conv2d_267[0][0]                 \n",
            "__________________________________________________________________________________________________\n",
            "conv2d_268 (Conv2D)             (None, 70, 70, 32)   3360        b5[0][0]                         \n",
            "__________________________________________________________________________________________________\n",
            "max_pooling2d_42 (MaxPooling2D) (None, 70, 70, 104)  0           b5[0][0]                         \n",
            "__________________________________________________________________________________________________\n",
            "conv2d_269 (Conv2D)             (None, 70, 70, 32)   3360        b5[0][0]                         \n",
            "__________________________________________________________________________________________________\n",
            "conv2d_272 (Conv2D)             (None, 70, 70, 64)   18496       conv2d_268[0][0]                 \n",
            "__________________________________________________________________________________________________\n",
            "conv2d_270 (Conv2D)             (None, 70, 70, 32)   3360        b5[0][0]                         \n",
            "__________________________________________________________________________________________________\n",
            "conv2d_271 (Conv2D)             (None, 70, 70, 64)   6720        max_pooling2d_42[0][0]           \n",
            "__________________________________________________________________________________________________\n",
            "conv2d_274 (Conv2D)             (None, 70, 70, 32)   3104        conv2d_269[0][0]                 \n",
            "__________________________________________________________________________________________________\n",
            "conv2d_273 (Conv2D)             (None, 70, 70, 64)   6208        conv2d_269[0][0]                 \n",
            "__________________________________________________________________________________________________\n",
            "conv2d_275 (Conv2D)             (None, 70, 70, 64)   12352       conv2d_272[0][0]                 \n",
            "__________________________________________________________________________________________________\n",
            "conv2d_276 (Conv2D)             (None, 70, 70, 64)   12352       conv2d_272[0][0]                 \n",
            "__________________________________________________________________________________________________\n",
            "c1 (Concatenate)                (None, 70, 70, 320)  0           conv2d_270[0][0]                 \n",
            "                                                                 conv2d_271[0][0]                 \n",
            "                                                                 conv2d_274[0][0]                 \n",
            "                                                                 conv2d_273[0][0]                 \n",
            "                                                                 conv2d_275[0][0]                 \n",
            "                                                                 conv2d_276[0][0]                 \n",
            "__________________________________________________________________________________________________\n",
            "conv2d_277 (Conv2D)             (None, 70, 70, 32)   10272       c1[0][0]                         \n",
            "__________________________________________________________________________________________________\n",
            "max_pooling2d_43 (MaxPooling2D) (None, 70, 70, 320)  0           c1[0][0]                         \n",
            "__________________________________________________________________________________________________\n",
            "conv2d_278 (Conv2D)             (None, 70, 70, 32)   10272       c1[0][0]                         \n",
            "__________________________________________________________________________________________________\n",
            "conv2d_281 (Conv2D)             (None, 70, 70, 64)   18496       conv2d_277[0][0]                 \n",
            "__________________________________________________________________________________________________\n",
            "conv2d_279 (Conv2D)             (None, 70, 70, 32)   10272       c1[0][0]                         \n",
            "__________________________________________________________________________________________________\n",
            "conv2d_280 (Conv2D)             (None, 70, 70, 64)   20544       max_pooling2d_43[0][0]           \n",
            "__________________________________________________________________________________________________\n",
            "conv2d_283 (Conv2D)             (None, 70, 70, 32)   3104        conv2d_278[0][0]                 \n",
            "__________________________________________________________________________________________________\n",
            "conv2d_282 (Conv2D)             (None, 70, 70, 64)   6208        conv2d_278[0][0]                 \n",
            "__________________________________________________________________________________________________\n",
            "conv2d_284 (Conv2D)             (None, 70, 70, 64)   12352       conv2d_281[0][0]                 \n",
            "__________________________________________________________________________________________________\n",
            "conv2d_285 (Conv2D)             (None, 70, 70, 64)   12352       conv2d_281[0][0]                 \n",
            "__________________________________________________________________________________________________\n",
            "c2 (Concatenate)                (None, 70, 70, 320)  0           conv2d_279[0][0]                 \n",
            "                                                                 conv2d_280[0][0]                 \n",
            "                                                                 conv2d_283[0][0]                 \n",
            "                                                                 conv2d_282[0][0]                 \n",
            "                                                                 conv2d_284[0][0]                 \n",
            "                                                                 conv2d_285[0][0]                 \n",
            "__________________________________________________________________________________________________\n",
            "conv2d_286 (Conv2D)             (None, 70, 70, 32)   10272       c2[0][0]                         \n",
            "__________________________________________________________________________________________________\n",
            "max_pooling2d_44 (MaxPooling2D) (None, 70, 70, 320)  0           c2[0][0]                         \n",
            "__________________________________________________________________________________________________\n",
            "conv2d_287 (Conv2D)             (None, 70, 70, 32)   10272       c2[0][0]                         \n",
            "__________________________________________________________________________________________________\n",
            "conv2d_290 (Conv2D)             (None, 70, 70, 64)   18496       conv2d_286[0][0]                 \n",
            "__________________________________________________________________________________________________\n",
            "conv2d_288 (Conv2D)             (None, 70, 70, 32)   10272       c2[0][0]                         \n",
            "__________________________________________________________________________________________________\n",
            "conv2d_289 (Conv2D)             (None, 70, 70, 64)   20544       max_pooling2d_44[0][0]           \n",
            "__________________________________________________________________________________________________\n",
            "conv2d_292 (Conv2D)             (None, 70, 70, 32)   3104        conv2d_287[0][0]                 \n",
            "__________________________________________________________________________________________________\n",
            "conv2d_291 (Conv2D)             (None, 70, 70, 64)   6208        conv2d_287[0][0]                 \n",
            "__________________________________________________________________________________________________\n",
            "conv2d_293 (Conv2D)             (None, 70, 70, 64)   12352       conv2d_290[0][0]                 \n",
            "__________________________________________________________________________________________________\n",
            "conv2d_294 (Conv2D)             (None, 70, 70, 64)   12352       conv2d_290[0][0]                 \n",
            "__________________________________________________________________________________________________\n",
            "c3 (Concatenate)                (None, 70, 70, 320)  0           conv2d_288[0][0]                 \n",
            "                                                                 conv2d_289[0][0]                 \n",
            "                                                                 conv2d_292[0][0]                 \n",
            "                                                                 conv2d_291[0][0]                 \n",
            "                                                                 conv2d_293[0][0]                 \n",
            "                                                                 conv2d_294[0][0]                 \n",
            "__________________________________________________________________________________________________\n",
            "max_pooling2d_45 (MaxPooling2D) (None, 70, 70, 320)  0           c3[0][0]                         \n",
            "==================================================================================================\n",
            "Total params: 947,320\n",
            "Trainable params: 947,320\n",
            "Non-trainable params: 0\n",
            "__________________________________________________________________________________________________\n"
          ],
          "name": "stdout"
        }
      ]
    },
    {
      "cell_type": "code",
      "metadata": {
        "id": "lwQzDFVb-1Vi",
        "colab_type": "code",
        "colab": {}
      },
      "source": [
        "InceptionV2_Model.load_weights('/content/covid-19_weights1.h5',by_name=True)"
      ],
      "execution_count": null,
      "outputs": []
    },
    {
      "cell_type": "code",
      "metadata": {
        "id": "7WFNUCQ4Hijn",
        "colab_type": "code",
        "colab": {
          "base_uri": "https://localhost:8080/",
          "height": 34
        },
        "outputId": "3d171c9f-8062-4d74-e5d5-61a577ea9ee7"
      },
      "source": [
        "cd .."
      ],
      "execution_count": null,
      "outputs": [
        {
          "output_type": "stream",
          "text": [
            "/content\n"
          ],
          "name": "stdout"
        }
      ]
    },
    {
      "cell_type": "code",
      "metadata": {
        "id": "sNSh8_y5GYDE",
        "colab_type": "code",
        "colab": {
          "base_uri": "https://localhost:8080/",
          "height": 86
        },
        "outputId": "f7c54925-1762-404d-a9f6-c3c225110102"
      },
      "source": [
        "!git clone https://github.com/dongjk/faster_rcnn_keras"
      ],
      "execution_count": null,
      "outputs": [
        {
          "output_type": "stream",
          "text": [
            "Cloning into 'faster_rcnn_keras'...\n",
            "remote: Enumerating objects: 61, done.\u001b[K\n",
            "Unpacking objects:   1% (1/61)   \rUnpacking objects:   3% (2/61)   \rUnpacking objects:   4% (3/61)   \rUnpacking objects:   6% (4/61)   \rUnpacking objects:   8% (5/61)   \rUnpacking objects:   9% (6/61)   \rUnpacking objects:  11% (7/61)   \rUnpacking objects:  13% (8/61)   \rUnpacking objects:  14% (9/61)   \rUnpacking objects:  16% (10/61)   \rUnpacking objects:  18% (11/61)   \rUnpacking objects:  19% (12/61)   \rUnpacking objects:  21% (13/61)   \rUnpacking objects:  22% (14/61)   \rUnpacking objects:  24% (15/61)   \rUnpacking objects:  26% (16/61)   \rUnpacking objects:  27% (17/61)   \rUnpacking objects:  29% (18/61)   \rUnpacking objects:  31% (19/61)   \rUnpacking objects:  32% (20/61)   \rUnpacking objects:  34% (21/61)   \rUnpacking objects:  36% (22/61)   \rremote: Total 61 (delta 0), reused 0 (delta 0), pack-reused 61\u001b[K\n",
            "Unpacking objects:  37% (23/61)   \rUnpacking objects:  39% (24/61)   \rUnpacking objects:  40% (25/61)   \rUnpacking objects:  42% (26/61)   \rUnpacking objects:  44% (27/61)   \rUnpacking objects:  45% (28/61)   \rUnpacking objects:  47% (29/61)   \rUnpacking objects:  49% (30/61)   \rUnpacking objects:  50% (31/61)   \rUnpacking objects:  52% (32/61)   \rUnpacking objects:  54% (33/61)   \rUnpacking objects:  55% (34/61)   \rUnpacking objects:  57% (35/61)   \rUnpacking objects:  59% (36/61)   \rUnpacking objects:  60% (37/61)   \rUnpacking objects:  62% (38/61)   \rUnpacking objects:  63% (39/61)   \rUnpacking objects:  65% (40/61)   \rUnpacking objects:  67% (41/61)   \rUnpacking objects:  68% (42/61)   \rUnpacking objects:  70% (43/61)   \rUnpacking objects:  72% (44/61)   \rUnpacking objects:  73% (45/61)   \rUnpacking objects:  75% (46/61)   \rUnpacking objects:  77% (47/61)   \rUnpacking objects:  78% (48/61)   \rUnpacking objects:  80% (49/61)   \rUnpacking objects:  81% (50/61)   \rUnpacking objects:  83% (51/61)   \rUnpacking objects:  85% (52/61)   \rUnpacking objects:  86% (53/61)   \rUnpacking objects:  88% (54/61)   \rUnpacking objects:  90% (55/61)   \rUnpacking objects:  91% (56/61)   \rUnpacking objects:  93% (57/61)   \rUnpacking objects:  95% (58/61)   \rUnpacking objects:  96% (59/61)   \rUnpacking objects:  98% (60/61)   \rUnpacking objects: 100% (61/61)   \rUnpacking objects: 100% (61/61), done.\n"
          ],
          "name": "stdout"
        }
      ]
    },
    {
      "cell_type": "code",
      "metadata": {
        "id": "gFc14fC9G7Tl",
        "colab_type": "code",
        "colab": {
          "base_uri": "https://localhost:8080/",
          "height": 121
        },
        "outputId": "136111ed-dd8d-4d3c-c643-caa81432163d"
      },
      "source": [
        "!git clone https://github.com/Saitharun279/covid_19"
      ],
      "execution_count": null,
      "outputs": [
        {
          "output_type": "stream",
          "text": [
            "Cloning into 'covid_19'...\n",
            "remote: Enumerating objects: 4, done.\u001b[K\n",
            "remote: Counting objects:  25% (1/4)\u001b[K\rremote: Counting objects:  50% (2/4)\u001b[K\rremote: Counting objects:  75% (3/4)\u001b[K\rremote: Counting objects: 100% (4/4)\u001b[K\rremote: Counting objects: 100% (4/4), done.\u001b[K\n",
            "remote: Compressing objects: 100% (4/4), done.\u001b[K\n",
            "remote: Total 14 (delta 0), reused 3 (delta 0), pack-reused 10\u001b[K\n",
            "Unpacking objects: 100% (14/14), done.\n"
          ],
          "name": "stdout"
        }
      ]
    },
    {
      "cell_type": "code",
      "metadata": {
        "id": "R3YgMXxCIDJu",
        "colab_type": "code",
        "colab": {
          "base_uri": "https://localhost:8080/",
          "height": 34
        },
        "outputId": "c05d5135-9d2e-43e2-b061-cbf71a764979"
      },
      "source": [
        "cd faster_rcnn_keras"
      ],
      "execution_count": null,
      "outputs": [
        {
          "output_type": "stream",
          "text": [
            "/content/faster_rcnn_keras\n"
          ],
          "name": "stdout"
        }
      ]
    },
    {
      "cell_type": "code",
      "metadata": {
        "id": "7rmclBD5T_vp",
        "colab_type": "code",
        "colab": {
          "base_uri": "https://localhost:8080/",
          "height": 34
        },
        "outputId": "b6663873-4b3e-4ea5-c86e-82d24e8ef50f"
      },
      "source": [
        "!ls"
      ],
      "execution_count": null,
      "outputs": [
        {
          "output_type": "stream",
          "text": [
            "ILSVRC2014_train_00010391.JPEG\tRCNN.py  README.md  RPN.py  utils.py\n"
          ],
          "name": "stdout"
        }
      ]
    },
    {
      "cell_type": "code",
      "metadata": {
        "id": "yOshaeDFUENa",
        "colab_type": "code",
        "colab": {
          "base_uri": "https://localhost:8080/",
          "height": 34
        },
        "outputId": "30c9b3c0-f091-4ccc-fe60-9a2f1c7774cf"
      },
      "source": [
        "cd .."
      ],
      "execution_count": null,
      "outputs": [
        {
          "output_type": "stream",
          "text": [
            "/content\n"
          ],
          "name": "stdout"
        }
      ]
    },
    {
      "cell_type": "code",
      "metadata": {
        "id": "eBt_uuiDUTQe",
        "colab_type": "code",
        "colab": {
          "base_uri": "https://localhost:8080/",
          "height": 34
        },
        "outputId": "2c319fc6-ce57-4295-97b0-57f6c2f00c6a"
      },
      "source": [
        "cd covid_19/data"
      ],
      "execution_count": null,
      "outputs": [
        {
          "output_type": "stream",
          "text": [
            "/content/covid_19/data\n"
          ],
          "name": "stdout"
        }
      ]
    },
    {
      "cell_type": "code",
      "metadata": {
        "id": "DWKH2jIXUZLj",
        "colab_type": "code",
        "colab": {}
      },
      "source": [
        "!unzip train.zip\n",
        "!unzip test.zip"
      ],
      "execution_count": null,
      "outputs": []
    },
    {
      "cell_type": "code",
      "metadata": {
        "id": "jmCsSzwJOMyF",
        "colab_type": "code",
        "colab": {}
      },
      "source": [
        "k = 9"
      ],
      "execution_count": null,
      "outputs": []
    },
    {
      "cell_type": "code",
      "metadata": {
        "id": "8LgIoB_rU3gm",
        "colab_type": "code",
        "colab": {}
      },
      "source": [
        "feature_maps = Input(shape=(None,None,320))\n",
        "\n",
        "conv_3x3 = Conv2D(\n",
        "    filters = 128,\n",
        "    kernel_size = (3,3),\n",
        "    padding = 'same',\n",
        "    name = '3x3',\n",
        ")(feature_maps)\n",
        "\n",
        "output_rect = Conv2D(\n",
        "    filters = 4*k,\n",
        "    kernel_size = (1,1),\n",
        "    activation = 'linear',\n",
        "    kernel_initializer='he_uniform',\n",
        "    name = 'rectangular_object_porposals'\n",
        ")(conv_3x3)\n",
        "\n",
        "output_scores = Conv2D(\n",
        "    filters = 1*k,\n",
        "    kernel_size = (1,1),\n",
        "    activation = 'sigmoid',\n",
        "    kernel_initializer='he_uniform',\n",
        "    name = 'scores1'\n",
        ")(conv_3x3)"
      ],
      "execution_count": null,
      "outputs": []
    },
    {
      "cell_type": "code",
      "metadata": {
        "id": "KU3a1wuJN7hH",
        "colab_type": "code",
        "colab": {}
      },
      "source": [
        ""
      ],
      "execution_count": null,
      "outputs": []
    }
  ]
}